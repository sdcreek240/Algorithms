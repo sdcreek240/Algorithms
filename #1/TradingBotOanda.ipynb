{
 "cells": [
  {
   "cell_type": "markdown",
   "metadata": {},
   "source": [
    "### 1 - Import test data"
   ]
  },
  {
   "cell_type": "code",
   "execution_count": 3,
   "metadata": {},
   "outputs": [
    {
     "name": "stderr",
     "output_type": "stream",
     "text": [
      "[*********************100%***********************]  1 of 1 completed\n"
     ]
    },
    {
     "data": {
      "text/html": [
       "<div>\n",
       "<style scoped>\n",
       "    .dataframe tbody tr th:only-of-type {\n",
       "        vertical-align: middle;\n",
       "    }\n",
       "\n",
       "    .dataframe tbody tr th {\n",
       "        vertical-align: top;\n",
       "    }\n",
       "\n",
       "    .dataframe thead th {\n",
       "        text-align: right;\n",
       "    }\n",
       "</style>\n",
       "<table border=\"1\" class=\"dataframe\">\n",
       "  <thead>\n",
       "    <tr style=\"text-align: right;\">\n",
       "      <th>Price</th>\n",
       "      <th>Adj Close</th>\n",
       "      <th>Close</th>\n",
       "      <th>High</th>\n",
       "      <th>Low</th>\n",
       "      <th>Open</th>\n",
       "      <th>Volume</th>\n",
       "    </tr>\n",
       "    <tr>\n",
       "      <th>Datetime</th>\n",
       "      <th></th>\n",
       "      <th></th>\n",
       "      <th></th>\n",
       "      <th></th>\n",
       "      <th></th>\n",
       "      <th></th>\n",
       "    </tr>\n",
       "  </thead>\n",
       "  <tbody>\n",
       "    <tr>\n",
       "      <th>2024-10-01 00:00:00</th>\n",
       "      <td>1.114455</td>\n",
       "      <td>1.114455</td>\n",
       "      <td>1.114455</td>\n",
       "      <td>1.114455</td>\n",
       "      <td>1.114455</td>\n",
       "      <td>0</td>\n",
       "    </tr>\n",
       "    <tr>\n",
       "      <th>2024-10-01 00:05:00</th>\n",
       "      <td>1.114330</td>\n",
       "      <td>1.114330</td>\n",
       "      <td>1.114579</td>\n",
       "      <td>1.114330</td>\n",
       "      <td>1.114455</td>\n",
       "      <td>0</td>\n",
       "    </tr>\n",
       "    <tr>\n",
       "      <th>2024-10-01 00:10:00</th>\n",
       "      <td>1.114455</td>\n",
       "      <td>1.114455</td>\n",
       "      <td>1.114455</td>\n",
       "      <td>1.114455</td>\n",
       "      <td>1.114455</td>\n",
       "      <td>0</td>\n",
       "    </tr>\n",
       "    <tr>\n",
       "      <th>2024-10-01 00:15:00</th>\n",
       "      <td>1.114579</td>\n",
       "      <td>1.114579</td>\n",
       "      <td>1.114579</td>\n",
       "      <td>1.114455</td>\n",
       "      <td>1.114455</td>\n",
       "      <td>0</td>\n",
       "    </tr>\n",
       "    <tr>\n",
       "      <th>2024-10-01 00:20:00</th>\n",
       "      <td>1.114455</td>\n",
       "      <td>1.114455</td>\n",
       "      <td>1.114579</td>\n",
       "      <td>1.114330</td>\n",
       "      <td>1.114579</td>\n",
       "      <td>0</td>\n",
       "    </tr>\n",
       "    <tr>\n",
       "      <th>...</th>\n",
       "      <td>...</td>\n",
       "      <td>...</td>\n",
       "      <td>...</td>\n",
       "      <td>...</td>\n",
       "      <td>...</td>\n",
       "      <td>...</td>\n",
       "    </tr>\n",
       "    <tr>\n",
       "      <th>2024-10-31 23:35:00</th>\n",
       "      <td>1.088732</td>\n",
       "      <td>1.088732</td>\n",
       "      <td>1.088850</td>\n",
       "      <td>1.088732</td>\n",
       "      <td>1.088732</td>\n",
       "      <td>0</td>\n",
       "    </tr>\n",
       "    <tr>\n",
       "      <th>2024-10-31 23:40:00</th>\n",
       "      <td>1.088850</td>\n",
       "      <td>1.088850</td>\n",
       "      <td>1.088850</td>\n",
       "      <td>1.088850</td>\n",
       "      <td>1.088850</td>\n",
       "      <td>0</td>\n",
       "    </tr>\n",
       "    <tr>\n",
       "      <th>2024-10-31 23:45:00</th>\n",
       "      <td>1.088732</td>\n",
       "      <td>1.088732</td>\n",
       "      <td>1.088850</td>\n",
       "      <td>1.088732</td>\n",
       "      <td>1.088732</td>\n",
       "      <td>0</td>\n",
       "    </tr>\n",
       "    <tr>\n",
       "      <th>2024-10-31 23:50:00</th>\n",
       "      <td>1.088850</td>\n",
       "      <td>1.088850</td>\n",
       "      <td>1.088850</td>\n",
       "      <td>1.088732</td>\n",
       "      <td>1.088850</td>\n",
       "      <td>0</td>\n",
       "    </tr>\n",
       "    <tr>\n",
       "      <th>2024-10-31 23:55:00</th>\n",
       "      <td>1.088732</td>\n",
       "      <td>1.088732</td>\n",
       "      <td>1.088732</td>\n",
       "      <td>1.088613</td>\n",
       "      <td>1.088732</td>\n",
       "      <td>0</td>\n",
       "    </tr>\n",
       "  </tbody>\n",
       "</table>\n",
       "<p>6528 rows × 6 columns</p>\n",
       "</div>"
      ],
      "text/plain": [
       "Price                Adj Close     Close      High       Low      Open  Volume\n",
       "Datetime                                                                      \n",
       "2024-10-01 00:00:00   1.114455  1.114455  1.114455  1.114455  1.114455       0\n",
       "2024-10-01 00:05:00   1.114330  1.114330  1.114579  1.114330  1.114455       0\n",
       "2024-10-01 00:10:00   1.114455  1.114455  1.114455  1.114455  1.114455       0\n",
       "2024-10-01 00:15:00   1.114579  1.114579  1.114579  1.114455  1.114455       0\n",
       "2024-10-01 00:20:00   1.114455  1.114455  1.114579  1.114330  1.114579       0\n",
       "...                        ...       ...       ...       ...       ...     ...\n",
       "2024-10-31 23:35:00   1.088732  1.088732  1.088850  1.088732  1.088732       0\n",
       "2024-10-31 23:40:00   1.088850  1.088850  1.088850  1.088850  1.088850       0\n",
       "2024-10-31 23:45:00   1.088732  1.088732  1.088850  1.088732  1.088732       0\n",
       "2024-10-31 23:50:00   1.088850  1.088850  1.088850  1.088732  1.088850       0\n",
       "2024-10-31 23:55:00   1.088732  1.088732  1.088732  1.088613  1.088732       0\n",
       "\n",
       "[6528 rows x 6 columns]"
      ]
     },
     "execution_count": 3,
     "metadata": {},
     "output_type": "execute_result"
    }
   ],
   "source": [
    "import yfinance as yf\n",
    "import pandas as pd\n",
    "\n",
    "dataF = yf.download(\"EURUSD=X\", start=\"2024-10-1\", end=\"2024-11-1\", interval='5M')\n",
    "dataF.columns = dataF.columns.get_level_values('Price')\n",
    "dataF.iloc[:,:]\n",
    "# dataF.Open.iloc"
   ]
  },
  {
   "cell_type": "markdown",
   "metadata": {},
   "source": [
    "### 2 - Define your signal function - Where you put your strat"
   ]
  },
  {
   "cell_type": "code",
   "execution_count": null,
   "metadata": {},
   "outputs": [
    {
     "name": "stdout",
     "output_type": "stream",
     "text": [
      "\u001b[1;32m___Signal generating DONE___\u001b[0m\n",
      "signal\n",
      "0      6356\n",
      "999      88\n",
      "2        84\n",
      "Name: count, dtype: int64\n"
     ]
    }
   ],
   "source": [
    "#Extras\n",
    "# # ANSI escape sequences for text color\n",
    "# print(\"\\033[1;31mThis is red text\")    # Red text\n",
    "# print(\"\\033[1;32mThis is green text\")  # Green text\n",
    "# print(\"\\033[1;33mThis is yellow text\") # Yellow text\n",
    "# print(\"\\033[0mThis is default text\")   # Reset to default color\n",
    "\n",
    "def signal_generator(df):#Engulfing pattern\n",
    "    # Extract scalar values for open and close prices\n",
    "    # print(\"signal_generator running\")\n",
    "    open = df.Open.iloc[-1]\n",
    "    close = df.Close.iloc[-1]\n",
    "    prevOpen = df.Open.iloc[-2]\n",
    "    prevClose = df.Close.iloc[-2]\n",
    "    # print(\"\\033[1;33m\"+ \"| open: \" + str(open) + \" | close: \" + str(close) + \" | prevOpen: \" + str(prevOpen) + \" | prevClose: \" + str(prevClose) + \"\\033[0m\", end=\"\")\n",
    "\n",
    "    # Bearish Pattern\n",
    "    if ( (open > close) and (prevOpen < prevClose) and \n",
    "        (close < prevOpen) and (open >= prevClose) ):\n",
    "        # print(\" _-Bearish Pattern-_\")\n",
    "        return 1\n",
    "\n",
    "    # Bullish Pattern\n",
    "    elif ( (open < close) and (prevOpen > prevClose) and \n",
    "          (close > prevOpen) and (open <= prevClose) ):\n",
    "        # print(\" _-Bearish Pattern-_\")\n",
    "        return 2\n",
    "\n",
    "    # No clear pattern\n",
    "    else:\n",
    "        # print(\" _-Bearish Pattern-_\")\n",
    "        return 0\n",
    "\n",
    "\n",
    "#Test dataframe self\n",
    "\n",
    "# Generate signals\n",
    "signal = [0]  # First row has no signal\n",
    "for i in range(1, len(dataF)):\n",
    "    # Slice two rows for signal generation\n",
    "    df = dataF.iloc[i-1:i+1]\n",
    "    signal.append(signal_generator(df))\n",
    "\n",
    "print(\"\\033[1;32m___Signal generating DONE___\\033[0m\", )#Set text to green and reset to default\n",
    "\n",
    "# Assign the signals to the DataFrame\n",
    "dataF[\"signal\"] = signal\n",
    "\n",
    "# Check signal distribution\n",
    "print(dataF[\"signal\"].value_counts())\n",
    "dataF.iloc[:,:]\n",
    "\n",
    "#Write current dataF to excel spreadsheet\n",
    "dataF.to_excel('dataF_1.xlsx',header=True, index=True)\n"
   ]
  },
  {
   "cell_type": "code",
   "execution_count": 4,
   "metadata": {},
   "outputs": [
    {
     "data": {
      "text/plain": [
       "0    3527\n",
       "2     178\n",
       "1     172\n",
       "Name: signal, dtype: int64"
      ]
     },
     "execution_count": 4,
     "metadata": {},
     "output_type": "execute_result"
    }
   ],
   "source": [
    "dataF.signal.value_counts()\n",
    "#dataF.iloc[:, :]"
   ]
  },
  {
   "cell_type": "markdown",
   "metadata": {},
   "source": [
    "### 3 - Connect to the market and execute trades"
   ]
  },
  {
   "cell_type": "code",
   "execution_count": 5,
   "metadata": {},
   "outputs": [],
   "source": [
    "from apscheduler.schedulers.blocking import BlockingScheduler\n",
    "from oandapyV20 import API\n",
    "import oandapyV20.endpoints.orders as orders\n",
    "from oandapyV20.contrib.requests import MarketOrderRequest\n",
    "from oanda_candles import Pair, Gran, CandleClient\n",
    "from oandapyV20.contrib.requests import TakeProfitDetails, StopLossDetails"
   ]
  },
  {
   "cell_type": "code",
   "execution_count": 6,
   "metadata": {},
   "outputs": [
    {
     "name": "stdout",
     "output_type": "stream",
     "text": [
      "True\n",
      "True\n",
      "True\n"
     ]
    }
   ],
   "source": [
    "from config import access_token, accountID\n",
    "def get_candles(n):\n",
    "    #access_token='XXXXXXX'#you need token here generated from OANDA account\n",
    "    client = CandleClient(access_token, real=False)\n",
    "    collector = client.get_collector(Pair.EUR_USD, Gran.M15)\n",
    "    candles = collector.grab(n)\n",
    "    return candles\n",
    "\n",
    "candles = get_candles(3)\n",
    "for candle in candles:\n",
    "    print(float(str(candle.bid.o))>1)\n"
   ]
  },
  {
   "cell_type": "code",
   "execution_count": 12,
   "metadata": {},
   "outputs": [],
   "source": [
    "def trading_job():\n",
    "    candles = get_candles(3)\n",
    "    dfstream = pd.DataFrame(columns=['Open','Close','High','Low'])\n",
    "    \n",
    "    i=0\n",
    "    for candle in candles:\n",
    "        dfstream.loc[i, ['Open']] = float(str(candle.bid.o))\n",
    "        dfstream.loc[i, ['Close']] = float(str(candle.bid.c))\n",
    "        dfstream.loc[i, ['High']] = float(str(candle.bid.h))\n",
    "        dfstream.loc[i, ['Low']] = float(str(candle.bid.l))\n",
    "        i=i+1\n",
    "\n",
    "    dfstream['Open'] = dfstream['Open'].astype(float)\n",
    "    dfstream['Close'] = dfstream['Close'].astype(float)\n",
    "    dfstream['High'] = dfstream['High'].astype(float)\n",
    "    dfstream['Low'] = dfstream['Low'].astype(float)\n",
    "\n",
    "    signal = signal_generator(dfstream.iloc[:-1,:])#\n",
    "    \n",
    "    # EXECUTING ORDERS\n",
    "    #accountID = \"XXXXXXX\" #your account ID here\n",
    "    client = API(access_token)\n",
    "         \n",
    "    SLTPRatio = 2.\n",
    "    previous_candleR = abs(dfstream['High'].iloc[-2]-dfstream['Low'].iloc[-2])\n",
    "    \n",
    "    SLBuy = float(str(candle.bid.o))-previous_candleR\n",
    "    SLSell = float(str(candle.bid.o))+previous_candleR\n",
    "\n",
    "    TPBuy = float(str(candle.bid.o))+previous_candleR*SLTPRatio\n",
    "    TPSell = float(str(candle.bid.o))-previous_candleR*SLTPRatio\n",
    "    \n",
    "    print(dfstream.iloc[:-1,:])\n",
    "    print(TPBuy, \"  \", SLBuy, \"  \", TPSell, \"  \", SLSell)\n",
    "    signal = 2\n",
    "    #Sell\n",
    "    if signal == 1:\n",
    "        mo = MarketOrderRequest(instrument=\"EUR_USD\", units=-1000, takeProfitOnFill=TakeProfitDetails(price=TPSell).data, stopLossOnFill=StopLossDetails(price=SLSell).data)\n",
    "        r = orders.OrderCreate(accountID, data=mo.data)\n",
    "        rv = client.request(r)\n",
    "        print(rv)\n",
    "    #Buy\n",
    "    elif signal == 2:\n",
    "        mo = MarketOrderRequest(instrument=\"EUR_USD\", units=1000, takeProfitOnFill=TakeProfitDetails(price=TPBuy).data, stopLossOnFill=StopLossDetails(price=SLBuy).data)\n",
    "        r = orders.OrderCreate(accountID, data=mo.data)\n",
    "        rv = client.request(r)\n",
    "        print(rv)"
   ]
  },
  {
   "cell_type": "markdown",
   "metadata": {},
   "source": [
    "### 4 - Executing orders automatically with a scheduler"
   ]
  },
  {
   "cell_type": "code",
   "execution_count": null,
   "metadata": {},
   "outputs": [],
   "source": [
    "trading_job()\n",
    "\n",
    "#scheduler = BlockingScheduler()\n",
    "#scheduler.add_job(trading_job, 'cron', day_of_week='mon-fri', hour='00-23', minute='1,16,31,46', start_date='2022-01-12 12:00:00', timezone='America/Chicago')\n",
    "#scheduler.start()"
   ]
  },
  {
   "cell_type": "code",
   "execution_count": null,
   "metadata": {},
   "outputs": [],
   "source": []
  }
 ],
 "metadata": {
  "kernelspec": {
   "display_name": "Python 3",
   "language": "python",
   "name": "python3"
  },
  "language_info": {
   "codemirror_mode": {
    "name": "ipython",
    "version": 3
   },
   "file_extension": ".py",
   "mimetype": "text/x-python",
   "name": "python",
   "nbconvert_exporter": "python",
   "pygments_lexer": "ipython3",
   "version": "3.13.0"
  }
 },
 "nbformat": 4,
 "nbformat_minor": 2
}
